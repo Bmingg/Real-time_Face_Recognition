{
 "cells": [
  {
   "cell_type": "code",
   "execution_count": 1,
   "metadata": {},
   "outputs": [],
   "source": [
    "# Python 3.10.6\n",
    "import cv2\n",
    "import os\n"
   ]
  },
  {
   "cell_type": "code",
   "execution_count": 2,
   "metadata": {},
   "outputs": [
    {
     "name": "stdout",
     "output_type": "stream",
     "text": [
      "Camera found at index 0\n",
      "[12/31 15:48:02.728693][info][9899173][Context.cpp:69] Context created with config: default config!\n",
      "[12/31 15:48:02.728718][info][9899173][Context.cpp:74] Context work_dir=/Users/vubinhminh/Courses/Fall 2024/Computer Vision/Real-time_Face_Recognition\n",
      "[12/31 15:48:02.728720][info][9899173][Context.cpp:77] \t- SDK version: 1.9.4\n",
      "[12/31 15:48:02.728721][info][9899173][Context.cpp:78] \t- SDK stage version: main\n",
      "[12/31 15:48:02.728724][info][9899173][Context.cpp:82] get config EnumerateNetDevice:false\n",
      "[12/31 15:48:02.728726][info][9899173][MacPal.cpp:36] createObPal: create MacPal!\n",
      "[12/31 15:48:02.729980][info][9899173][MacPal.cpp:104] Create PollingDeviceWatcher!\n",
      "[12/31 15:48:02.729993][info][9899173][DeviceManager.cpp:15] Current found device(s): (0)\n",
      "[12/31 15:48:02.729997][info][9899173][Pipeline.cpp:15] Try to create pipeline with default device.\n",
      "[12/31 15:48:02.729999][warning][9899173][ObException.cpp:5] No device found, fail to create pipeline!\n",
      "[12/31 15:48:02.731437][info][9899173][Context.cpp:90] Context destroyed\n"
     ]
    },
    {
     "name": "stderr",
     "output_type": "stream",
     "text": [
      "OpenCV: out device of bound (0-0): 1\n",
      "OpenCV: camera failed to properly initialize!\n",
      "[ WARN:0@2.702] global cap.cpp:323 open VIDEOIO(OBSENSOR): raised unknown C++ exception!\n",
      "\n",
      "\n"
     ]
    }
   ],
   "source": [
    "def list_cameras():\n",
    "    index = 0\n",
    "    while True:\n",
    "        cam = cv2.VideoCapture(index)\n",
    "        if not cam.isOpened():\n",
    "            break\n",
    "        else:\n",
    "            print(f\"Camera found at index {index}\")\n",
    "        cam.release()\n",
    "        index += 1\n",
    "\n",
    "list_cameras()"
   ]
  },
  {
   "cell_type": "code",
   "execution_count": 4,
   "metadata": {},
   "outputs": [
    {
     "data": {
      "text/plain": [
       "4"
      ]
     },
     "execution_count": 4,
     "metadata": {},
     "output_type": "execute_result"
    }
   ],
   "source": [
    "# Create new id folder to register a new person\n",
    "new_id = len(os.listdir(\"dataset_test\"))\n",
    "\n",
    "if not os.path.exists(f\"dataset_test/{new_id}\"):\n",
    "        os.makedirs(f\"dataset_test/{new_id}\")\n",
    "\n",
    "new_id   "
   ]
  },
  {
   "cell_type": "code",
   "execution_count": 7,
   "metadata": {},
   "outputs": [],
   "source": [
    "def capture_images(person_name):\n",
    "    cam = cv2.VideoCapture(0)\n",
    "    count = 1\n",
    "    print(\"Press the SPACE bar to capture a photo, or Q to quit.\")\n",
    "\n",
    "    while True:\n",
    "        ret, frame = cam.read()\n",
    "        if not ret:\n",
    "            print(\"Failed to capture image\")\n",
    "            break\n",
    "        cv2.imshow(\"Capture\", frame)\n",
    "        key = cv2.waitKey(1) & 0xFF\n",
    "        \n",
    "        # Save the frame as an image\n",
    "        if key == ord(' '):\n",
    "            file_name = f\"dataset_test/{new_id}/{person_name}_{count}.jpg\"\n",
    "            cv2.imwrite(file_name, frame)\n",
    "            print(f\"Photo #{count} saved at {file_name}\")\n",
    "            count += 1\n",
    "\n",
    "        if key == ord('q'):\n",
    "            print(\"Exit.\")\n",
    "            break\n",
    "    cam.release()\n",
    "    cv2.destroyAllWindows()"
   ]
  },
  {
   "cell_type": "code",
   "execution_count": 8,
   "metadata": {},
   "outputs": [
    {
     "name": "stdout",
     "output_type": "stream",
     "text": [
      "Press the SPACE bar to capture a photo, or Q to quit.\n",
      "Exit.\n",
      "Press the SPACE bar to capture a photo, or Q to quit.\n",
      "Exit.\n",
      "Press the SPACE bar to capture a photo, or Q to quit.\n",
      "Exit.\n"
     ]
    }
   ],
   "source": [
    "capture_images(\"minhvb\")\n",
    "capture_images(\"hiepnm\")\n",
    "capture_images(\"lamnt\")\n"
   ]
  }
 ],
 "metadata": {
  "kernelspec": {
   "display_name": "base",
   "language": "python",
   "name": "python3"
  },
  "language_info": {
   "codemirror_mode": {
    "name": "ipython",
    "version": 3
   },
   "file_extension": ".py",
   "mimetype": "text/x-python",
   "name": "python",
   "nbconvert_exporter": "python",
   "pygments_lexer": "ipython3",
   "version": "3.10.6"
  }
 },
 "nbformat": 4,
 "nbformat_minor": 2
}
