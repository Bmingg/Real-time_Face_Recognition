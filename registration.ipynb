{
 "cells": [
  {
   "cell_type": "code",
   "execution_count": 2,
   "metadata": {},
   "outputs": [],
   "source": [
    "# Python 3.10.6\n",
    "import cv2\n",
    "import os\n"
   ]
  },
  {
   "cell_type": "code",
   "execution_count": 30,
   "metadata": {},
   "outputs": [
    {
     "name": "stdout",
     "output_type": "stream",
     "text": [
      "Camera found at index 0\n",
      "Camera found at index 1\n"
     ]
    },
    {
     "name": "stderr",
     "output_type": "stream",
     "text": [
      "OpenCV: out device of bound (0-1): 2\n",
      "OpenCV: camera failed to properly initialize!\n"
     ]
    }
   ],
   "source": [
    "def list_cameras():\n",
    "    index = 0\n",
    "    while True:\n",
    "        cam = cv2.VideoCapture(index)\n",
    "        if not cam.isOpened():\n",
    "            break\n",
    "        else:\n",
    "            print(f\"Camera found at index {index}\")\n",
    "        cam.release()\n",
    "        index += 1\n",
    "\n",
    "list_cameras()"
   ]
  },
  {
   "cell_type": "code",
   "execution_count": null,
   "metadata": {},
   "outputs": [
    {
     "data": {
      "text/plain": [
       "3"
      ]
     },
     "execution_count": 7,
     "metadata": {},
     "output_type": "execute_result"
    }
   ],
   "source": [
    "# Create new id folder to register a new person\n",
    "new_id = len(os.listdir(\"dataset_test\"))\n",
    "\n",
    "if not os.path.exists(f\"dataset_test/{new_id}\"):\n",
    "        os.makedirs(f\"dataset_test/{new_id}\")"
   ]
  },
  {
   "cell_type": "code",
   "execution_count": null,
   "metadata": {},
   "outputs": [],
   "source": [
    "def capture_images(person_name):\n",
    "    cam = cv2.VideoCapture(1)\n",
    "    count = 1\n",
    "    print(\"Press the SPACE bar to capture a photo, or Q to quit.\")\n",
    "\n",
    "    while True:\n",
    "        ret, frame = cam.read()\n",
    "        if not ret:\n",
    "            print(\"Failed to capture image\")\n",
    "            break\n",
    "        cv2.imshow(\"Capture\", frame)\n",
    "        key = cv2.waitKey(1) & 0xFF\n",
    "        \n",
    "        # Save the frame as an image\n",
    "        if key == ord(' '):\n",
    "            file_name = f\"dataset_test/{new_id}/{person_name}_{count}.jpg\"\n",
    "            cv2.imwrite(file_name, frame)\n",
    "            print(f\"Photo #{count} saved at {file_name}\")\n",
    "            count += 1\n",
    "\n",
    "        if key == ord('q'):\n",
    "            print(\"Exit.\")\n",
    "            break\n",
    "    cam.release()\n",
    "    cv2.destroyAllWindows()"
   ]
  },
  {
   "cell_type": "code",
   "execution_count": 35,
   "metadata": {},
   "outputs": [
    {
     "name": "stdout",
     "output_type": "stream",
     "text": [
      "Press the SPACE bar to capture a photo, or Q to quit.\n",
      "Photo #1 saved at dataset/minhvb_1.jpg\n",
      "Photo #2 saved at dataset/minhvb_2.jpg\n",
      "Photo #3 saved at dataset/minhvb_3.jpg\n",
      "Photo #4 saved at dataset/minhvb_4.jpg\n",
      "Photo #5 saved at dataset/minhvb_5.jpg\n",
      "Exit.\n",
      "Press the SPACE bar to capture a photo, or Q to quit.\n",
      "Photo #1 saved at dataset/hiepnm_1.jpg\n",
      "Photo #2 saved at dataset/hiepnm_2.jpg\n",
      "Photo #3 saved at dataset/hiepnm_3.jpg\n",
      "Photo #4 saved at dataset/hiepnm_4.jpg\n",
      "Photo #5 saved at dataset/hiepnm_5.jpg\n",
      "Exit.\n",
      "Press the SPACE bar to capture a photo, or Q to quit.\n",
      "Photo #1 saved at dataset/lamnt_1.jpg\n",
      "Photo #2 saved at dataset/lamnt_2.jpg\n",
      "Photo #3 saved at dataset/lamnt_3.jpg\n",
      "Photo #4 saved at dataset/lamnt_4.jpg\n",
      "Photo #5 saved at dataset/lamnt_5.jpg\n",
      "Exit.\n"
     ]
    }
   ],
   "source": [
    "capture_images(\"minhvb\")\n",
    "capture_images(\"hiepnm\")\n",
    "capture_images(\"lamnt\")"
   ]
  }
 ],
 "metadata": {
  "kernelspec": {
   "display_name": "base",
   "language": "python",
   "name": "python3"
  },
  "language_info": {
   "codemirror_mode": {
    "name": "ipython",
    "version": 3
   },
   "file_extension": ".py",
   "mimetype": "text/x-python",
   "name": "python",
   "nbconvert_exporter": "python",
   "pygments_lexer": "ipython3",
   "version": "3.10.6"
  }
 },
 "nbformat": 4,
 "nbformat_minor": 2
}
